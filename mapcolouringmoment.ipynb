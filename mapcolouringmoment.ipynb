{
  "nbformat": 4,
  "nbformat_minor": 0,
  "metadata": {
    "colab": {
      "provenance": []
    },
    "kernelspec": {
      "name": "python3",
      "display_name": "Python 3"
    },
    "language_info": {
      "name": "python"
    }
  },
  "cells": [
    {
      "cell_type": "code",
      "execution_count": null,
      "metadata": {
        "id": "B7dsA5UHhMIz"
      },
      "outputs": [],
      "source": [
        "#Map COloring Problem\n",
        "def color_map(graph, colors, assignment={}, node=0):\n",
        "    if node == len(graph): return assignment\n",
        "    region = list(graph.keys())[node]\n",
        "    for color in colors:\n",
        "        if all(assignment.get(n) != color for n in graph[region]):\n",
        "            assignment[region] = color\n",
        "            if color_map(graph, colors, assignment, node+1):\n",
        "                return assignment\n",
        "            del assignment[region]\n",
        "    return None\n",
        "\n",
        "# Example graph (adjacency list)\n",
        "graph = {\n",
        "    'A': ['B', 'C'],\n",
        "    'B': ['A', 'C', 'D'],\n",
        "    'C': ['A', 'B', 'D'],\n",
        "    'D': ['B', 'C']\n",
        "}\n",
        "\n",
        "colors = ['Red', 'Green', 'Blue']\n",
        "print(color_map(graph, colors))\n"
      ]
    }
  ]
}