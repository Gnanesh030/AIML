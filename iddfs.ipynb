{
  "nbformat": 4,
  "nbformat_minor": 0,
  "metadata": {
    "colab": {
      "provenance": []
    },
    "kernelspec": {
      "name": "python3",
      "display_name": "Python 3"
    },
    "language_info": {
      "name": "python"
    }
  },
  "cells": [
    {
      "cell_type": "code",
      "execution_count": null,
      "metadata": {
        "id": "In5nZWnKfkIS"
      },
      "outputs": [],
      "source": [
        "#a*\n",
        "from heapq import heappush, heappop\n",
        "\n",
        "def astar(start, goal, h, neighbors):\n",
        "    open_set = [(h(start), 0, start, [start])]\n",
        "    visited = set()\n",
        "    while open_set:\n",
        "        est, cost, node, path = heappop(open_set)\n",
        "        if node == goal: return path\n",
        "        if node in visited: continue\n",
        "        visited.add(node)\n",
        "        for neigh, w in neighbors(node):\n",
        "            if neigh not in visited:\n",
        "                g = cost + w\n",
        "                heappush(open_set, (g + h(neigh), g, neigh, path + [neigh]))\n",
        "\n",
        "# Example graph\n",
        "graph = {\n",
        "    'A': {'B': 1, 'C': 3},\n",
        "    'B': {'D': 1, 'E': 5},\n",
        "    'C': {'F': 2},\n",
        "    'D': {}, 'E': {}, 'F': {}\n",
        "}\n",
        "\n",
        "def neighbors(n): return [(k, v) for k, v in graph[n].items()]\n",
        "def h(n): return {'A':4, 'B':3, 'C':2, 'D':0, 'E':0, 'F':0}[n]\n",
        "\n",
        "print(astar('A', 'D', h, neighbors))"
      ]
    }
  ]
}