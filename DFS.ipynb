{
  "nbformat": 4,
  "nbformat_minor": 0,
  "metadata": {
    "colab": {
      "provenance": []
    },
    "kernelspec": {
      "name": "python3",
      "display_name": "Python 3"
    },
    "language_info": {
      "name": "python"
    }
  },
  "cells": [
    {
      "cell_type": "code",
      "execution_count": 1,
      "metadata": {
        "colab": {
          "base_uri": "https://localhost:8080/"
        },
        "id": "3p_NIJuDdyQt",
        "outputId": "0db15228-141b-42dd-b745-e09fb6a0b168"
      },
      "outputs": [
        {
          "output_type": "stream",
          "name": "stdout",
          "text": [
            "A B D E C F "
          ]
        }
      ],
      "source": [
        "#DFS\n",
        "def dfs(graph, start, visited=None):\n",
        "    visited = visited or set()\n",
        "    if start not in visited:\n",
        "        print(start, end=\" \")\n",
        "        visited.add(start)\n",
        "        for neigh in graph[start]:\n",
        "            dfs(graph, neigh, visited)\n",
        "\n",
        "# Example usage\n",
        "g = {\n",
        "    'A': ['B', 'C'],\n",
        "    'B': ['D', 'E'],\n",
        "    'C': ['F'],\n",
        "    'D': [], 'E': [], 'F': []\n",
        "}\n",
        "dfs(g, 'A')"
      ]
    }
  ]
}