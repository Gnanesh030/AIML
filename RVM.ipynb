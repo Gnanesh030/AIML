{
  "nbformat": 4,
  "nbformat_minor": 0,
  "metadata": {
    "colab": {
      "provenance": []
    },
    "kernelspec": {
      "name": "python3",
      "display_name": "Python 3"
    },
    "language_info": {
      "name": "python"
    }
  },
  "cells": [
    {
      "cell_type": "code",
      "execution_count": null,
      "metadata": {
        "id": "n3dq60QggoVm"
      },
      "outputs": [],
      "source": [
        "#Random Variable Movement\n",
        "import random\n",
        "\n",
        "def create_environment(size):\n",
        "    return {\n",
        "        'size': size,\n",
        "        'agent_position': [0, 0]\n",
        "    }\n",
        "\n",
        "def is_valid_move(environment, position):\n",
        "    size = environment['size']\n",
        "    return 0 <= position[0] < size and 0 <= position[1] < size\n",
        "\n",
        "def perceive(environment):\n",
        "    return environment['agent_position']\n",
        "\n",
        "def act(environment):\n",
        "    moves = [(-1, 0), (1, 0), (0, -1), (0, 1)]  # Up, Down, Left, Right\n",
        "    random_move = random.choice(moves)\n",
        "    new_position = [\n",
        "        environment['agent_position'][0] + random_move[0],\n",
        "        environment['agent_position'][1] + random_move[1]\n",
        "    ]\n",
        "\n",
        "    if is_valid_move(environment, new_position):\n",
        "        environment['agent_position'] = new_position\n",
        "        return f\"Moved to {environment['agent_position']}\"\n",
        "    else:\n",
        "        return \"Cannot move, stayed in place\"\n",
        "\n",
        "def main():\n",
        "    env_size = 5\n",
        "    num_steps = 10\n",
        "\n",
        "    environment = create_environment(env_size)\n",
        "\n",
        "    print(f\"Starting position: {perceive(environment)}\")\n",
        "\n",
        "    for step in range(num_steps):\n",
        "        print(f\"Step {step + 1}: {act(environment)}\")\n",
        "\n",
        "if __name__ == \"__main__\":\n",
        "    main()"
      ]
    }
  ]
}