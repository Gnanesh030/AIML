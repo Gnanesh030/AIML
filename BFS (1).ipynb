{
  "nbformat": 4,
  "nbformat_minor": 0,
  "metadata": {
    "colab": {
      "provenance": []
    },
    "kernelspec": {
      "name": "python3",
      "display_name": "Python 3"
    },
    "language_info": {
      "name": "python"
    }
  },
  "cells": [
    {
      "cell_type": "code",
      "execution_count": 1,
      "metadata": {
        "colab": {
          "base_uri": "https://localhost:8080/"
        },
        "id": "4X26EftGdEi7",
        "outputId": "25cb2ea7-7f15-4a0e-97fc-7f334ed63a37"
      },
      "outputs": [
        {
          "output_type": "stream",
          "name": "stdout",
          "text": [
            "A B C D E F "
          ]
        }
      ],
      "source": [
        "#breath first search\n",
        "from collections import deque\n",
        "\n",
        "def bfs(graph, start):\n",
        "    q, visited = deque([start]), {start}\n",
        "    while q:\n",
        "        node = q.popleft()\n",
        "        print(node, end=\" \")\n",
        "        for neigh in graph[node]:\n",
        "            if neigh not in visited:\n",
        "                visited.add(neigh)\n",
        "                q.append(neigh)\n",
        "\n",
        "# Example usage\n",
        "g = {\n",
        "    'A': ['B', 'C'],\n",
        "    'B': ['D', 'E'],\n",
        "    'C': ['F'],\n",
        "    'D': [], 'E': [], 'F': []\n",
        "}\n",
        "bfs(g, 'A')"
      ]
    }
  ]
}